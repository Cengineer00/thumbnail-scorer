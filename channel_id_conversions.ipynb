{
 "cells": [
  {
   "cell_type": "markdown",
   "metadata": {},
   "source": [
    "## Channel ID - Channel User Name Conversions"
   ]
  },
  {
   "cell_type": "markdown",
   "metadata": {},
   "source": [
    "#### Two functions for getting channel IDs from usernames and vica-versa"
   ]
  },
  {
   "cell_type": "code",
   "execution_count": 12,
   "metadata": {},
   "outputs": [],
   "source": [
    "import requests\n",
    "import re\n",
    "\n",
    "def get_channel_id_from_username(usernames):\n",
    "    result = {}\n",
    "    for handle in usernames:\n",
    "        result[handle] = None\n",
    "        urls_to_try = [\n",
    "            f\"https://www.youtube.com/@{handle}/about\",\n",
    "            f\"https://www.youtube.com/user/{handle}/about\",\n",
    "            f\"https://www.youtube.com/c/{handle}/about\"\n",
    "        ]\n",
    "        headers = {\n",
    "            \"User-Agent\": \"Mozilla/5.0\"\n",
    "        }\n",
    "\n",
    "        for url in urls_to_try:\n",
    "            r = requests.get(url, headers=headers)\n",
    "            if r.status_code != 200:\n",
    "                continue\n",
    "            # Try to find \"channelId\" in page source\n",
    "            match = re.search(r'\"channelId\":\"(UC[0-9A-Za-z_-]{22,})\"', r.text)\n",
    "            if match:\n",
    "                result[handle] = match.group(1)\n",
    "                break\n",
    "    return result\n",
    "\n",
    "def get_username_from_channel_ids(channel_ids):\n",
    "    result = {}\n",
    "    headers = {\n",
    "        \"User-Agent\": \"Mozilla/5.0\"\n",
    "    }\n",
    "\n",
    "    for channel_id in channel_ids:\n",
    "        result[channel_id] = None\n",
    "        url = f\"https://www.youtube.com/channel/{channel_id}/about\"\n",
    "        try:\n",
    "            r = requests.get(url, headers=headers)\n",
    "            if r.status_code != 200:\n",
    "                continue\n",
    "\n",
    "            # Look for canonical URL inside JSON\n",
    "            match = re.search(r'\"canonicalBaseUrl\":\"\\/@([^\"]+)\"', r.text)\n",
    "            if match:\n",
    "                result[channel_id] = match.group(1)\n",
    "            else:\n",
    "                print(f\"Could not find username for {channel_id}\")\n",
    "        except Exception as e:\n",
    "            print(f\"Error processing {channel_id}: {e}\")\n",
    "\n",
    "    return result\n",
    "\n"
   ]
  },
  {
   "cell_type": "code",
   "execution_count": 15,
   "metadata": {},
   "outputs": [
    {
     "name": "stdout",
     "output_type": "stream",
     "text": [
      "'noktali.virgul.podcast': 'UC25MJC8177yXIpWVjYI1xoQ',\n",
      "'AkademikLink': 'UCFH3gPaFetVFPHOiU5tUj8g',\n",
      "'baraneemo': 'UCEUcDZw3wzXqtts6LJ34I6g',\n",
      "'Fireship': 'UC2Xd-TjJByJyK2w1zNwY0zQ',\n",
      "'evrimagaci': 'UCatnasFAiXUvWwH8NlSdd3A',\n",
      "'CanDeger': 'UCL1Rp1QrhuRhl-sjP5KYwhw',\n",
      "'efe_aydal': 'UCn60JKt4935lVckDZZN-DPQ',\n",
      "'Mr.Cypriot': 'UCxSeHOSwxPN0-dubAszO-Sg',\n",
      "'Ronsep': 'UCjAG82M7R_Im6EGZZXskXDQ',\n",
      "'Fetarap': 'UCAjJuQMK_bV_eElAsLZZSRQ',\n",
      "'ThePrimeagen': 'UCUyeluBRhGPCW4rPe_UvBZQ',\n",
      "'NoluyoYaa': 'UC4-bGrwiQOCVpvQwEGWaqGA',\n",
      "'kaanvarli': 'UCnFj2WpGA0GvcatrF-X4Bzw',\n",
      "'yusufipekkesitler': 'UCVBX2n_5egE9XuJL8NUS0Xg',\n",
      "'mdisec': 'UClis21-nGFunHa9agc7Md_Q',\n",
      "'stewiekirisci': 'UCGWXQs93ZnQGA5u4oGHzGCQ',\n",
      "\n",
      "==========================================\n",
      "\n",
      "'UC25MJC8177yXIpWVjYI1xoQ': 'noktali.virgul.podcast',\n",
      "'UCFH3gPaFetVFPHOiU5tUj8g': 'AkademikLink',\n",
      "'UCEUcDZw3wzXqtts6LJ34I6g': 'baraneemo',\n",
      "'UC2Xd-TjJByJyK2w1zNwY0zQ': 'beyondfireship',\n",
      "'UCatnasFAiXUvWwH8NlSdd3A': 'evrimagaci',\n",
      "'UCL1Rp1QrhuRhl-sjP5KYwhw': 'CanDeger',\n",
      "'UCn60JKt4935lVckDZZN-DPQ': 'efe_aydal',\n",
      "'UCxSeHOSwxPN0-dubAszO-Sg': 'Mr.Cypriot',\n",
      "'UCjAG82M7R_Im6EGZZXskXDQ': 'Ronsep',\n",
      "'UCAjJuQMK_bV_eElAsLZZSRQ': 'Fetarap',\n",
      "'UCUyeluBRhGPCW4rPe_UvBZQ': 'ThePrimeTimeagen',\n",
      "'UC4-bGrwiQOCVpvQwEGWaqGA': 'NoluyoYaa',\n",
      "'UCnFj2WpGA0GvcatrF-X4Bzw': 'oyun_cum',\n",
      "'UCVBX2n_5egE9XuJL8NUS0Xg': 'yusufipk',\n",
      "'UClis21-nGFunHa9agc7Md_Q': 'mdisec',\n",
      "'UCGWXQs93ZnQGA5u4oGHzGCQ': 'stewiekirisci',\n"
     ]
    }
   ],
   "source": [
    "def print_dict_readable(d):\n",
    "    for key, value in d.items():\n",
    "        print(f\"'{key}': '{value}',\")\n",
    "        \n",
    "channel_usernames = [\n",
    "    \"noktali.virgul.podcast\",\n",
    "    \"AkademikLink\",\n",
    "    \"baraneemo\",\n",
    "    \"Fireship\",\n",
    "    \"evrimagaci\",\n",
    "    \"CanDeger\",\n",
    "    \"efe_aydal\",\n",
    "    \"Mr.Cypriot\",\n",
    "    \"Ronsep\",\n",
    "    \"Fetarap\",\n",
    "    \"ThePrimeagen\",\n",
    "    \"NoluyoYaa\",\n",
    "    \"kaanvarli\",\n",
    "    \"yusufipekkesitler\",\n",
    "    \"mdisec\",\n",
    "    \"stewiekirisci\",\n",
    "]\n",
    "\n",
    "channel_ids = get_channel_id_from_username(channel_usernames)\n",
    "print_dict_readable(channel_ids)\n",
    "print(\"\\n==========================================\\n\")\n",
    "print_dict_readable(get_username_from_channel_ids(channel_ids.values()))"
   ]
  },
  {
   "cell_type": "code",
   "execution_count": null,
   "metadata": {},
   "outputs": [],
   "source": []
  }
 ],
 "metadata": {
  "kernelspec": {
   "display_name": "TScorer",
   "language": "python",
   "name": "python3"
  },
  "language_info": {
   "codemirror_mode": {
    "name": "ipython",
    "version": 3
   },
   "file_extension": ".py",
   "mimetype": "text/x-python",
   "name": "python",
   "nbconvert_exporter": "python",
   "pygments_lexer": "ipython3",
   "version": "3.11.13"
  }
 },
 "nbformat": 4,
 "nbformat_minor": 2
}
